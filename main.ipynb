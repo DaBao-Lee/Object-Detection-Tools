{
 "cells": [
  {
   "cell_type": "code",
   "execution_count": 8,
   "metadata": {},
   "outputs": [
    {
     "name": "stderr",
     "output_type": "stream",
     "text": [
      "  0%|          | 0/2416 [00:00<?, ?it/s]"
     ]
    },
    {
     "name": "stderr",
     "output_type": "stream",
     "text": [
      "100%|██████████| 2416/2416 [00:02<00:00, 1076.70it/s]"
     ]
    },
    {
     "name": "stdout",
     "output_type": "stream",
     "text": [
      "转换完成\n"
     ]
    },
    {
     "name": "stderr",
     "output_type": "stream",
     "text": [
      "\n"
     ]
    }
   ],
   "source": [
    "from imgtools import *\n",
    "\n",
    "# dics = create_type_dict('./classes.txt')\n",
    "\n",
    "voc_to_txt('./Original/annotations_xml', './output/',\n",
    "            obj_dict={'battery': 0, 'block': 1, 'bridge': 2, 'burger': 3,\n",
    "                       'car': 4, 'company': 5, 'cone': 6, 'crosswalk': 7,\n",
    "                         'pedestrian': 8, 'school': 9,})"
   ]
  },
  {
   "cell_type": "code",
   "execution_count": 1,
   "metadata": {},
   "outputs": [
    {
     "name": "stdout",
     "output_type": "stream",
     "text": [
      "Ultralytics 8.3.61  Python-3.8.0 torch-2.4.1+cu118 CUDA:0 (NVIDIA GeForce RTX 4050 Laptop GPU, 6140MiB)\n",
      "YOLO11n_Ghost_SPPELAN summary: 652 layers, 1,960,087 parameters, 0 gradients, 5.1 GFLOPs\n"
     ]
    },
    {
     "name": "stderr",
     "output_type": "stream",
     "text": [
      "\u001b[34m\u001b[1mval: \u001b[0mScanning D:\\A\\python\\20届智能车\\data\\val\\labels.cache... 3229 images, 0 backgrounds, 0 corrupt: 100%|██████████| 3229/3229 [00:00<?, ?it/s]\n",
      "                 Class     Images  Instances      Box(P          R      mAP50  mAP50-95): 100%|██████████| 202/202 [00:22<00:00,  8.96it/s]\n"
     ]
    },
    {
     "name": "stdout",
     "output_type": "stream",
     "text": [
      "                   all       3229       3885     0.9987     0.9989      0.995     0.9553\n",
      "               Battery        368        368     0.9991          1      0.995     0.9638\n",
      "                 Block        279        279     0.9988          1      0.995     0.9749\n",
      "                Bridge        236        236     0.9986          1      0.995     0.9567\n",
      "                Burger        296        296     0.9989          1      0.995     0.9511\n",
      "                   Car        366        366     0.9991          1      0.995     0.9722\n",
      "               Company        313        313      0.998          1      0.995     0.9715\n",
      "                  Cone        273        663     0.9976      0.991      0.995     0.9327\n",
      "             Crosswalk        621        621     0.9995          1      0.995     0.9221\n",
      "            Pedestrian        246        471     0.9985     0.9979      0.995     0.9533\n",
      "                School        272        272     0.9987          1      0.995     0.9546\n",
      "Speed: 0.1ms preprocess, 3.0ms inference, 0.0ms loss, 0.8ms postprocess per image\n",
      "Results saved to \u001b[1mruns\\detect\\val\u001b[0m\n",
      "Evaluation finished.\n"
     ]
    }
   ],
   "source": [
    "from imgtools import *\n",
    "\n",
    "result = evaluate(model_selection='./best.pt', yaml_data='./data/data.yaml', iou=0.7)"
   ]
  },
  {
   "cell_type": "code",
   "execution_count": 12,
   "metadata": {},
   "outputs": [],
   "source": [
    "from imgtools import *\n",
    "\n",
    "predict(model_selection='./best.pt',conf=0.3, show=True, verbose=False, save=False,\n",
    "         img_path=get_infer_data('./data/train/images/', typing=InferDataType.IMAGE))"
   ]
  },
  {
   "cell_type": "code",
   "execution_count": 8,
   "metadata": {},
   "outputs": [
    {
     "name": "stdout",
     "output_type": "stream",
     "text": [
      "Results saved to \u001b[1mruns\\detect\\predict\u001b[0m\n"
     ]
    }
   ],
   "source": [
    "from imgtools import *\n",
    "from ultralytics import YOLO\n",
    "\n",
    "model = YOLO('./best.pt')\n",
    "results = model.predict(source='./data/val/images/', conf=0.5, save=True, show=False, verbose=False, stream=True)\n",
    "\n",
    "for result in results:\n",
    "    model(result, conf=0.5, save=True, verbose=False, stream=True, show=False)"
   ]
  },
  {
   "cell_type": "code",
   "execution_count": 1,
   "metadata": {},
   "outputs": [
    {
     "name": "stderr",
     "output_type": "stream",
     "text": [
      "100%|██████████| 235/235 [00:05<00:00, 41.24it/s]\n"
     ]
    },
    {
     "name": "stdout",
     "output_type": "stream",
     "text": [
      "addCompose done\n"
     ]
    },
    {
     "name": "stderr",
     "output_type": "stream",
     "text": [
      "100%|██████████| 235/235 [00:00<00:00, 1067.12it/s]\n"
     ]
    },
    {
     "name": "stdout",
     "output_type": "stream",
     "text": [
      "match_label done\n"
     ]
    },
    {
     "name": "stderr",
     "output_type": "stream",
     "text": [
      "100%|██████████| 235/235 [00:00<00:00, 1178.18it/s]"
     ]
    },
    {
     "name": "stdout",
     "output_type": "stream",
     "text": [
      "转换完成\n"
     ]
    },
    {
     "name": "stderr",
     "output_type": "stream",
     "text": [
      "\n"
     ]
    }
   ],
   "source": [
    "from imgArgument import *\n",
    "\n",
    "s = ImageArgumentor(enhance_time=11, img_path='./Original/crosswalk/',\n",
    "                    argument_output='./result/')\n",
    "\n",
    "s.addCompose()\n",
    "match_label(label_path='./Original/crosswalk_xml/',\n",
    "            label_type='xml', output_path='./result_xml', enhance_time=11)\n",
    "\n",
    "voc_to_txt('./result_xml', './output/',\n",
    "            obj_dict={'battery': 0, 'block': 1, 'bridge': 2, 'burger': 3,\n",
    "                       'car': 4, 'company': 5, 'cone': 6, 'crosswalk': 7,\n",
    "                         'pedestrian': 8, 'school': 9,})"
   ]
  },
  {
   "cell_type": "code",
   "execution_count": 177,
   "metadata": {},
   "outputs": [],
   "source": [
    "img = cv2.imread('./Original/crosswalk/crosswalk30.jpg')\n",
    "a = A.Compose([\n",
    "    A.GaussNoise(p=1, var_limit=(10, 12)),\n",
    "    A.Blur(p=1, blur_limit=(3, 5)),\n",
    "    A.RandomToneCurve(p=1),\n",
    "    A.RandomFog(p=1),\n",
    "    A.CLAHE(p=1),\n",
    "    A.Sharpen(p=1),\n",
    "])\n",
    "\n",
    "img = a(image=img)['image']\n",
    "show_pic(img, 'a')"
   ]
  }
 ],
 "metadata": {
  "kernelspec": {
   "display_name": "Python 3",
   "language": "python",
   "name": "python3"
  },
  "language_info": {
   "codemirror_mode": {
    "name": "ipython",
    "version": 3
   },
   "file_extension": ".py",
   "mimetype": "text/x-python",
   "name": "python",
   "nbconvert_exporter": "python",
   "pygments_lexer": "ipython3",
   "version": "3.8.0"
  }
 },
 "nbformat": 4,
 "nbformat_minor": 4
}
